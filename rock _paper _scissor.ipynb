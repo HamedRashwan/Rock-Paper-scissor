{
 "cells": [
  {
   "cell_type": "code",
   "execution_count": 1,
   "metadata": {},
   "outputs": [],
   "source": [
    "import random "
   ]
  },
  {
   "cell_type": "code",
   "execution_count": 6,
   "metadata": {},
   "outputs": [
    {
     "name": "stdout",
     "output_type": "stream",
     "text": [
      "Welcome to Rock, Paper, Scissor!\n",
      "Enter Your Name: Hamed\n",
      "You win!\n",
      "---------------\n",
      "You win!\n"
     ]
    }
   ],
   "source": [
    "print(\"Welcome to Rock, Paper, Scissor!\")\n",
    "name=input()\n",
    "print('Enter Your Name: '+name)\n",
    "while True:\n",
    "    choices = ['rock','paper','scissor']\n",
    "    user_choice = input()\n",
    "    computer_choice = random.choice(choices)\n",
    "\n",
    "    if user_choice not in choices:\n",
    "        print(\"Invalid choice. Please choose again.\")\n",
    "    else:\n",
    "        if user_choice == computer_choice:\n",
    "            print('Draw')\n",
    "        elif (user_choice == 'rock' and computer_choice == 'scissor') or \\\n",
    "             (user_choice == 'paper' and computer_choice == 'rock') or \\\n",
    "             (user_choice == 'scissor' and computer_choice == 'paper'):\n",
    "            print ('You win!')\n",
    "        else:\n",
    "            print ('You Lose and Computer is Win! ')\n",
    "\n",
    "    play_again = input(\"Do you want to play again? (yes/no) \")\n",
    "    if play_again == 'yes':\n",
    "        print('---------------')\n",
    "    else:\n",
    "        break"
   ]
  }
 ],
 "metadata": {
  "kernelspec": {
   "display_name": "Python 3",
   "language": "python",
   "name": "python3"
  },
  "language_info": {
   "codemirror_mode": {
    "name": "ipython",
    "version": 3
   },
   "file_extension": ".py",
   "mimetype": "text/x-python",
   "name": "python",
   "nbconvert_exporter": "python",
   "pygments_lexer": "ipython3",
   "version": "3.11.3"
  }
 },
 "nbformat": 4,
 "nbformat_minor": 2
}
